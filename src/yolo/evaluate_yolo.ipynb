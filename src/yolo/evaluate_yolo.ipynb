{
 "cells": [
  {
   "cell_type": "code",
   "execution_count": null,
   "metadata": {},
   "outputs": [],
   "source": [
    "import pandas as pd\n",
    "import numpy as np\n",
    "import matplotlib.pyplot as plt\n",
    "import seaborn as sns\n",
    "import os\n",
    "from ultralytics import YOLO\n",
    "from collections import defaultdict"
   ]
  },
  {
   "cell_type": "code",
   "execution_count": null,
   "metadata": {},
   "outputs": [],
   "source": [
    "RUNS_FOLDER = \"../../runs/segment\"\n",
    "PLOTS_DIR = \"plots\"\n",
    "os.makedirs(PLOTS_DIR, exist_ok=True)\n",
    "DATA_DIR = \"../../data/data-seg.yaml\""
   ]
  },
  {
   "cell_type": "code",
   "execution_count": null,
   "metadata": {},
   "outputs": [],
   "source": [
    "# noda: no data augmentation\n",
    "yolov8s_seg_noda = os.path.join(RUNS_FOLDER, \"yolov8s_seg_noda\")\n",
    "yolov8m_seg_noda = os.path.join(RUNS_FOLDER, \"yolov8m_seg_noda\")\n",
    "yolov8l_seg_noda = os.path.join(RUNS_FOLDER, \"yolov8l_seg_noda\")\n",
    "yolov11s_seg_noda = os.path.join(RUNS_FOLDER, \"yolov11s_seg_noda\")\n",
    "yolov11m_seg_noda = os.path.join(RUNS_FOLDER, \"yolov11m_seg_noda\")\n",
    "yolov11l_seg_noda = os.path.join(RUNS_FOLDER, \"yolov11l_seg_noda\")\n",
    "\n",
    "models_noda = {\n",
    "    \"yolov8s\": yolov8s_seg_noda,\n",
    "    \"yolov8m\": yolov8m_seg_noda,\n",
    "    \"yolov8l\": yolov8l_seg_noda,\n",
    "    \"yolov11s\": yolov11s_seg_noda,\n",
    "    \"yolov11m\": yolov11m_seg_noda,\n",
    "    \"yolov11l\": yolov11l_seg_noda,\n",
    "}"
   ]
  },
  {
   "cell_type": "code",
   "execution_count": null,
   "metadata": {},
   "outputs": [],
   "source": [
    "yolov8m_hsv = os.path.join(RUNS_FOLDER, \"yolov8m_hsv\")\n",
    "yolov8m_translate = os.path.join(RUNS_FOLDER, \"yolov8m_translate\")\n",
    "yolov8m_hsvtranslate = os.path.join(RUNS_FOLDER, \"yolov8m_hsvtranslate\")\n",
    "yolov8m_fliplr = os.path.join(RUNS_FOLDER, \"yolov8m_fliplr\")\n",
    "yolov8m_30epochs_noda = os.path.join(RUNS_FOLDER, \"yolov8m_30epochs_noda\")\n",
    "yolov8m_allda = os.path.join(RUNS_FOLDER, \"yolov8m_allda\")\n",
    "\n",
    "models_da = {\n",
    "    \"yolov8m_hsv\": yolov8m_hsv,\n",
    "    \"yolov8m_translate\": yolov8m_translate,\n",
    "    \"yolov8m_hsvtranslate\": yolov8m_hsvtranslate,\n",
    "    \"yolov8m_fliplr\": yolov8m_fliplr,\n",
    "    \"yolov8m_30epochs_noda\": yolov8m_30epochs_noda,\n",
    "    \"yolov8m_all\": yolov8m_allda,\n",
    "}"
   ]
  },
  {
   "cell_type": "code",
   "execution_count": null,
   "metadata": {},
   "outputs": [],
   "source": [
    "yolov8s_hsv = os.path.join(RUNS_FOLDER, \"yolov8s_hsv\")\n",
    "yolov8s_translate = os.path.join(RUNS_FOLDER, \"yolov8s_translate\")\n",
    "yolov8s_scale = os.path.join(RUNS_FOLDER, \"yolov8s_scale\")\n",
    "yolov8s_fliplr = os.path.join(RUNS_FOLDER, \"yolov8s_fliplr\")\n",
    "yolov8s_no_aug = os.path.join(RUNS_FOLDER, \"yolov8s_no_aug\")\n",
    "yolov8s_all_aug = os.path.join(RUNS_FOLDER, \"yolov8s_all_aug\")\n",
    "\n",
    "\n",
    "models_da_s = {\n",
    "    \"yolov8s_hsv\": yolov8s_hsv,\n",
    "    \"yolov8s_translate\": yolov8s_translate,\n",
    "    \"yolov8s_scale\": yolov8s_scale,\n",
    "    \"yolov8s_fliplr\": yolov8s_fliplr,\n",
    "    \"yolov8s_all_aug\": yolov8s_all_aug,\n",
    "    \"yolov8s_no_aug\": yolov8s_no_aug,\n",
    "}"
   ]
  },
  {
   "cell_type": "code",
   "execution_count": null,
   "metadata": {},
   "outputs": [],
   "source": [
    "######################\n",
    "###### VAL DATA ######\n",
    "######################\n",
    "# 75 images, 523 instances, 3 classes (deal, product_category_deal, sonstiges)\n",
    "# Deal: 69 images, 512 instances\n",
    "# Product: 5 images, 7 instances\n",
    "# Sonstiges: 4 image, 4 instances"
   ]
  },
  {
   "cell_type": "code",
   "execution_count": null,
   "metadata": {},
   "outputs": [],
   "source": [
    "data = defaultdict(list)\n",
    "\n",
    "for model_name, model_dir in models_noda.items():\n",
    "    model = YOLO(os.path.join(model_dir, \"weights\", \"best.pt\"))\n",
    "    results = pd.read_csv(os.path.join(model_dir, \"results.csv\"))\n",
    "    metrics = model.val(data=DATA_DIR)\n",
    "    data[\"model\"].append(model_name)\n",
    "    for k, v in metrics.results_dict.items():\n",
    "        data[k.replace(\"metrics/\", \"\")].append(round(float(v) * 100, 0))\n",
    "    data[\"speed_preprocess\"].append(round(metrics.speed[\"preprocess\"], 2))\n",
    "    data[\"speed_inference\"].append(round(metrics.speed[\"inference\"], 2))\n",
    "    data[\"speed_postprocess\"].append(round(metrics.speed[\"postprocess\"], 2))\n",
    "    data[\"map50_95_per_class\"].append([round(float(v) * 100, 0) for v in metrics.box.maps])\n",
    "\n",
    "    data[\"train/box_loss\"].append(results[\"train/box_loss\"].to_list())\n",
    "    data[\"train/seg_loss\"].append(results[\"train/seg_loss\"].to_list())\n",
    "    data[\"train/cls_loss\"].append(results[\"train/cls_loss\"].to_list())\n",
    "    data[\"val/box_loss\"].append(results[\"val/box_loss\"].to_list())\n",
    "    data[\"val/seg_loss\"].append(results[\"val/seg_loss\"].to_list())\n",
    "    data[\"val/cls_loss\"].append(results[\"val/cls_loss\"].to_list())\n",
    "data = pd.DataFrame(data)\n",
    "data.to_csv(\"evaluation/metrics_seg_noda.csv\", index=False)"
   ]
  },
  {
   "cell_type": "code",
   "execution_count": null,
   "metadata": {},
   "outputs": [],
   "source": []
  },
  {
   "cell_type": "code",
   "execution_count": null,
   "metadata": {},
   "outputs": [],
   "source": []
  },
  {
   "cell_type": "code",
   "execution_count": null,
   "metadata": {},
   "outputs": [],
   "source": [
    "data_da = defaultdict(list)\n",
    "\n",
    "for model_name, model_dir in models_da.items():\n",
    "    model = YOLO(os.path.join(model_dir, \"weights\", \"best.pt\"))\n",
    "    results = pd.read_csv(os.path.join(model_dir, \"results.csv\"))\n",
    "    metrics = model.val(data=DATA_DIR)\n",
    "    data_da[\"model\"].append(model_name)\n",
    "    for k, v in metrics.results_dict.items():\n",
    "        data_da[k.replace(\"metrics/\", \"\")].append(round(float(v) * 100, 0))\n",
    "    data_da[\"speed_preprocess\"].append(round(metrics.speed[\"preprocess\"], 2))\n",
    "    data_da[\"speed_inference\"].append(round(metrics.speed[\"inference\"], 2))\n",
    "    data_da[\"speed_postprocess\"].append(round(metrics.speed[\"postprocess\"], 2))\n",
    "    data_da[\"map50_95_per_class\"].append([round(float(v) * 100, 0) for v in metrics.box.maps])\n",
    "\n",
    "    data_da[\"train/box_loss\"].append(results[\"train/box_loss\"].to_list())\n",
    "    data_da[\"train/seg_loss\"].append(results[\"train/seg_loss\"].to_list())\n",
    "    data_da[\"train/cls_loss\"].append(results[\"train/cls_loss\"].to_list())\n",
    "    data_da[\"val/box_loss\"].append(results[\"val/box_loss\"].to_list())\n",
    "    data_da[\"val/seg_loss\"].append(results[\"val/seg_loss\"].to_list())\n",
    "    data_da[\"val/cls_loss\"].append(results[\"val/cls_loss\"].to_list())\n",
    "\n",
    "data_da = pd.DataFrame(data_da)\n",
    "data_da.to_csv(\"evaluation/metrics_seg_da.csv\", index=False)"
   ]
  },
  {
   "cell_type": "code",
   "execution_count": null,
   "metadata": {},
   "outputs": [],
   "source": []
  },
  {
   "cell_type": "code",
   "execution_count": null,
   "metadata": {},
   "outputs": [],
   "source": [
    "data_da = defaultdict(list)\n",
    "\n",
    "for model_name, model_dir in models_da_s.items():\n",
    "    model = YOLO(os.path.join(model_dir, \"weights\", \"best.pt\"))\n",
    "    results = pd.read_csv(os.path.join(model_dir, \"results.csv\"))\n",
    "    metrics = model.val(data=DATA_DIR)\n",
    "    data_da[\"model\"].append(model_name)\n",
    "    for k, v in metrics.results_dict.items():\n",
    "        data_da[k.replace(\"metrics/\", \"\")].append(round(float(v) * 100, 0))\n",
    "    data_da[\"speed_preprocess\"].append(round(metrics.speed[\"preprocess\"], 2))\n",
    "    data_da[\"speed_inference\"].append(round(metrics.speed[\"inference\"], 2))\n",
    "    data_da[\"speed_postprocess\"].append(round(metrics.speed[\"postprocess\"], 2))\n",
    "    data_da[\"map50_95_per_class\"].append([round(float(v) * 100, 0) for v in metrics.box.maps])\n",
    "\n",
    "    data_da[\"train/box_loss\"].append(results[\"train/box_loss\"].to_list())\n",
    "    data_da[\"train/seg_loss\"].append(results[\"train/seg_loss\"].to_list())\n",
    "    data_da[\"train/cls_loss\"].append(results[\"train/cls_loss\"].to_list())\n",
    "    data_da[\"val/box_loss\"].append(results[\"val/box_loss\"].to_list())\n",
    "    data_da[\"val/seg_loss\"].append(results[\"val/seg_loss\"].to_list())\n",
    "    data_da[\"val/cls_loss\"].append(results[\"val/cls_loss\"].to_list())\n",
    "\n",
    "data_da = pd.DataFrame(data_da)\n",
    "data_da.to_csv(\"evaluation/metrics_seg_da_8s.csv\", index=False)"
   ]
  },
  {
   "cell_type": "code",
   "execution_count": null,
   "metadata": {},
   "outputs": [],
   "source": []
  },
  {
   "cell_type": "code",
   "execution_count": null,
   "metadata": {},
   "outputs": [],
   "source": []
  },
  {
   "cell_type": "code",
   "execution_count": null,
   "metadata": {},
   "outputs": [],
   "source": []
  },
  {
   "cell_type": "code",
   "execution_count": null,
   "metadata": {},
   "outputs": [],
   "source": []
  },
  {
   "cell_type": "code",
   "execution_count": null,
   "metadata": {},
   "outputs": [],
   "source": []
  },
  {
   "cell_type": "code",
   "execution_count": null,
   "metadata": {},
   "outputs": [],
   "source": []
  },
  {
   "cell_type": "code",
   "execution_count": null,
   "metadata": {},
   "outputs": [],
   "source": []
  },
  {
   "cell_type": "code",
   "execution_count": null,
   "metadata": {},
   "outputs": [],
   "source": []
  },
  {
   "cell_type": "code",
   "execution_count": null,
   "metadata": {},
   "outputs": [],
   "source": []
  },
  {
   "cell_type": "code",
   "execution_count": null,
   "metadata": {},
   "outputs": [],
   "source": []
  }
 ],
 "metadata": {
  "kernelspec": {
   "display_name": ".venv",
   "language": "python",
   "name": "python3"
  },
  "language_info": {
   "codemirror_mode": {
    "name": "ipython",
    "version": 3
   },
   "file_extension": ".py",
   "mimetype": "text/x-python",
   "name": "python",
   "nbconvert_exporter": "python",
   "pygments_lexer": "ipython3",
   "version": "3.11.6"
  }
 },
 "nbformat": 4,
 "nbformat_minor": 2
}
