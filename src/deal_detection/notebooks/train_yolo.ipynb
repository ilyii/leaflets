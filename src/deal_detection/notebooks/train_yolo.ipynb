{
 "cells": [
  {
   "cell_type": "code",
   "execution_count": 1,
   "metadata": {},
   "outputs": [],
   "source": [
    "from ultralytics import YOLO\n",
    "\n",
    "model = YOLO(\"yolo11l-seg.pt\")"
   ]
  },
  {
   "cell_type": "code",
   "execution_count": null,
   "metadata": {},
   "outputs": [],
   "source": [
    "results = model.train(data=\"data-seg.yaml\", epochs=50, device=\"0\", batch=16)"
   ]
  },
  {
   "cell_type": "code",
   "execution_count": null,
   "metadata": {},
   "outputs": [],
   "source": [
    "model.val(data=\"data-seg.yaml\", imgsz=640, device=\"0\")"
   ]
  },
  {
   "cell_type": "code",
   "execution_count": 4,
   "metadata": {},
   "outputs": [],
   "source": [
    "# 1: ...\n",
    "# 2: ...\n",
    "# 3: ...\n",
    "# 4: results_dict: {'metrics/precision(B)': np.float64(0.7861105206944853), 'metrics/recall(B)': np.float64(0.7927259873469796), 'metrics/mAP50(B)': np.float64(0.8766811817555714), 'metrics/mAP50-95(B)': np.float64(0.8232225003950192), 'metrics/precision(M)': np.float64(0.7861105206944853), 'metrics/recall(M)': np.float64(0.7927259873469796), 'metrics/mAP50(M)': np.float64(0.8766811817555714), 'metrics/mAP50-95(M)': np.float64(0.8004147842411002), 'fitness': np.float64(1.6366097925236218)}\n",
    "# 5: results_dict: {'metrics/precision(B)': np.float64(0.8851796070468027), 'metrics/recall(B)': np.float64(0.7322882085753747), 'metrics/mAP50(B)': np.float64(0.894746480491193), 'metrics/mAP50-95(B)': np.float64(0.8300558192299545), 'metrics/precision(M)': np.float64(0.8866926317440483), 'metrics/recall(M)': np.float64(0.7338033600905262), 'metrics/mAP50(M)': np.float64(0.8953505060265794), 'metrics/mAP50-95(M)': np.float64(0.7831652328696045), 'fitness': np.float64(1.6309086455413804)}\n",
    "# 7: results_dict: {'metrics/precision(B)': np.float64(0.9081895152764033), 'metrics/recall(B)': np.float64(0.9237253157993471), 'metrics/mAP50(B)': np.float64(0.9528133123613225), 'metrics/mAP50-95(B)': np.float64(0.8360836274212051), 'metrics/precision(M)': np.float64(0.9097703365445161), 'metrics/recall(M)': np.float64(0.9252404673144987), 'metrics/mAP50(M)': np.float64(0.9535245132757333), 'metrics/mAP50-95(M)': np.float64(0.8186170029840905), 'fitness': np.float64(1.6798643499284718)}\n",
    "# 4: results_dict: {'metrics/precision(B)': np.float64(0.9815321841821995), 'metrics/recall(B)': np.float64(0.9806727090025272), 'metrics/mAP50(B)': np.float64(0.9903180326963841), 'metrics/mAP50-95(B)': np.float64(0.9317959957986675), 'metrics/precision(M)': np.float64(0.983080714257781), 'metrics/recall(M)': np.float64(0.9821878605176787), 'metrics/mAP50(M)': np.float64(0.990723581958254), 'metrics/mAP50-95(M)': np.float64(0.9076630045741297), 'fitness': np.float64(1.8536172618009812)}"
   ]
  }
 ],
 "metadata": {
  "kernelspec": {
   "display_name": ".venv",
   "language": "python",
   "name": "python3"
  },
  "language_info": {
   "codemirror_mode": {
    "name": "ipython",
    "version": 3
   },
   "file_extension": ".py",
   "mimetype": "text/x-python",
   "name": "python",
   "nbconvert_exporter": "python",
   "pygments_lexer": "ipython3",
   "version": "3.12.0"
  }
 },
 "nbformat": 4,
 "nbformat_minor": 2
}
