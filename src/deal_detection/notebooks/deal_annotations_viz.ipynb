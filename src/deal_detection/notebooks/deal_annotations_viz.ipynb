{
 "cells": [
  {
   "cell_type": "code",
   "execution_count": null,
   "metadata": {},
   "outputs": [],
   "source": [
    "from dotenv import load_dotenv\n",
    "import os\n",
    "from PIL import Image\n",
    "from sqlalchemy import create_engine\n",
    "from sqlalchemy.orm import sessionmaker\n",
    "from sqlalchemy.sql import text\n",
    "import pandas as pd\n",
    "\n",
    "load_dotenv()\n",
    "\n",
    "PROJECT_DIR = os.getenv(\"PROJECT_DIR\")\n",
    "DEAL_ANNOTATION_PATH = os.path.join(PROJECT_DIR, \"labeled_deals_gabriel.csv\")\n",
    "LEAFLET_DIR = os.path.join(PROJECT_DIR, \"crawled_leaflets\")\n",
    "DABASE_PATH = os.path.join(LEAFLET_DIR, \"supermarket_leaflets.db\")\n",
    "DEALS_DIR = os.path.join(PROJECT_DIR, \"deals\")"
   ]
  },
  {
   "cell_type": "code",
   "execution_count": null,
   "metadata": {},
   "outputs": [],
   "source": [
    "deal_annotation_df = pd.read_csv(DEAL_ANNOTATION_PATH, sep=\", \")\n",
    "annotated_images = deal_annotation_df[\"img_name\"].tolist()\n",
    "all_deal_images = {}\n",
    "# with os.walk\n",
    "for root, dirs, files in os.walk(DEALS_DIR):\n",
    "    for file in files:\n",
    "        if file in annotated_images:\n",
    "            all_deal_images[file] = os.path.join(root, file)"
   ]
  },
  {
   "cell_type": "code",
   "execution_count": null,
   "metadata": {},
   "outputs": [],
   "source": [
    "deal_annotation_df"
   ]
  },
  {
   "cell_type": "code",
   "execution_count": null,
   "metadata": {},
   "outputs": [],
   "source": [
    "# load random deal image and show it + annotation\n",
    "\n",
    "# load image\n",
    "rnd_deal = deal_annotation_df.sample(1).to_dict(orient=\"records\")[0]\n",
    "img_path = all_deal_images[rnd_deal[\"img_name\"]]\n",
    "marke = rnd_deal[\"Marke\"]\n",
    "produktname = rnd_deal[\"Produktname\"]\n",
    "original_preis = rnd_deal[\"Original Preis\"]\n",
    "deal_preis = rnd_deal[\"Reduzierter Preis\"]\n",
    "gewicht = rnd_deal[\"Gewicht\"]\n",
    "img = Image.open(img_path)\n",
    "print(f\"Showing image {rnd_deal['img_name']}\\nMarke: {marke}\\nProduktname: {produktname}\\nOriginal Preis: {original_preis}\\nDeal Preis: {deal_preis}\\nGewicht: {gewicht}\")\n",
    "img"
   ]
  },
  {
   "cell_type": "code",
   "execution_count": null,
   "metadata": {},
   "outputs": [],
   "source": []
  }
 ],
 "metadata": {
  "kernelspec": {
   "display_name": ".venv",
   "language": "python",
   "name": "python3"
  },
  "language_info": {
   "codemirror_mode": {
    "name": "ipython",
    "version": 3
   },
   "file_extension": ".py",
   "mimetype": "text/x-python",
   "name": "python",
   "nbconvert_exporter": "python",
   "pygments_lexer": "ipython3",
   "version": "3.11.6"
  }
 },
 "nbformat": 4,
 "nbformat_minor": 2
}
