{
 "cells": [
  {
   "cell_type": "code",
   "execution_count": null,
   "metadata": {},
   "outputs": [],
   "source": [
    "from ollama import chat\n",
    "from pydantic import BaseModel\n",
    "from typing import List, Literal, Optional\n",
    "import numpy as np\n",
    "import os\n",
    "from dotenv import load_dotenv\n",
    "from PIL import Image\n",
    "from collections import defaultdict\n",
    "from tqdm import tqdm\n",
    "import pandas as pd\n",
    "\n",
    "load_dotenv()\n",
    "\n",
    "PROJECT_DIR = os.getenv(\"PROJECT_DIR\")\n",
    "DEAL_ANNOTATION_PATH = os.path.join(PROJECT_DIR, \"information_extraction\", \"labeled_deals_all.csv\")\n",
    "LEAFLET_DIR = os.path.join(PROJECT_DIR, \"crawled_leaflets\")\n",
    "DABASE_PATH = os.path.join(LEAFLET_DIR, \"supermarket_leaflets.db\")\n",
    "DEALS_DIR = os.path.join(PROJECT_DIR, \"deals\")\n",
    "MODELS_DIR = os.path.join(PROJECT_DIR, \"models\")"
   ]
  },
  {
   "cell_type": "code",
   "execution_count": null,
   "metadata": {},
   "outputs": [],
   "source": [
    "all_images = []\n",
    "labeled_deals = pd.read_csv(DEAL_ANNOTATION_PATH)[\"img_name\"].tolist()\n",
    "\n",
    "for root, dirs, files in os.walk(DEALS_DIR):\n",
    "    for file in files:\n",
    "        if file.endswith(\".png\") and \"annotated\" not in file and (file in labeled_deals or file.replace(\".png\", \"\") in labeled_deals):\n",
    "            all_images.append(os.path.join(root, file))\n",
    "\n",
    "print(f\"Total images: {len(all_images)}\")"
   ]
  },
  {
   "cell_type": "code",
   "execution_count": null,
   "metadata": {},
   "outputs": [],
   "source": [
    "rnd_image = np.random.choice(all_images)\n",
    "loaded_image = Image.open(rnd_image).convert(\"RGB\")"
   ]
  },
  {
   "cell_type": "code",
   "execution_count": null,
   "metadata": {},
   "outputs": [],
   "source": [
    "class DealDescription(BaseModel):\n",
    "    brand: str = None\n",
    "    productname: str = None\n",
    "    unbinding_price_recommendation: Optional[float] = None\n",
    "    deal_price: float = None\n",
    "    weight: str = None"
   ]
  },
  {
   "cell_type": "code",
   "execution_count": null,
   "metadata": {},
   "outputs": [],
   "source": [
    "def process_data(img_paths, model):\n",
    "    data_dict = defaultdict(list)\n",
    "\n",
    "    for img_path in tqdm(img_paths):\n",
    "        data_dict[\"img_name\"].append(os.path.basename(img_path))\n",
    "\n",
    "        response = chat(\n",
    "                model=model,\n",
    "                format=DealDescription.model_json_schema(),\n",
    "                messages=[\n",
    "                    {\n",
    "                        \"role\": \"user\",\n",
    "                        \"content\": (\n",
    "                            \"\"\"\n",
    "                            You are an advanced vision language model specializing in structured data extraction from an image of a deal. Your task is to extract structured information from a supermarket deal.\n",
    "\n",
    "                            Extraction Fields:\n",
    "                                - brand: The brand name, if available (e.g. \"Coca Cola\", \"Milka\", \"Nestle\", \"Müller\", \"Iglo\").\n",
    "                                - productname: The name of the product without mentioning the brand and description.\n",
    "                                - unbinding_price_recommendation: The price of the product without discount, if given (e.g. 2.99, 3.50, 1.99).\n",
    "                                - deal_price: The price of the product on sale (e.g. 1.99, 2.50, 0.99). Never negative.\n",
    "                                - weight: The amount of the product, if given (e.g. 500g, 1kg, 1 piece).\n",
    "                            \"\"\"\n",
    "                        ),\n",
    "                        \"images\": [img_path],\n",
    "                    },\n",
    "                ],\n",
    "                options={\"temperature\": 0}\n",
    "            )\n",
    "        image_description = DealDescription.model_validate_json(response.message.content)\n",
    "        data_dict[\"brand\"].append(image_description.brand)\n",
    "        data_dict[\"productname\"].append(image_description.productname)\n",
    "        data_dict[\"original_price\"].append(image_description.unbinding_price_recommendation)\n",
    "        data_dict[\"deal_price\"].append(image_description.deal_price)\n",
    "        data_dict[\"weight\"].append(image_description.weight)\n",
    "\n",
    "    return pd.DataFrame(data_dict).reset_index(drop=True)"
   ]
  },
  {
   "cell_type": "code",
   "execution_count": null,
   "metadata": {},
   "outputs": [],
   "source": [
    "llama3_2_vision_df = process_data(all_images, \"llama3.2-vision\")\n",
    "llama3_2_vision_df.to_csv(\"llama3_2-vision_results.csv\", index=False)\n",
    "display(llama3_2_vision_df)"
   ]
  },
  {
   "cell_type": "code",
   "execution_count": null,
   "metadata": {},
   "outputs": [],
   "source": [
    "minicpm_v_df = process_data(all_images, \"minicpm-v\")\n",
    "minicpm_v_df.to_csv(\"minicpm-v_results.csv\", index=False)\n",
    "display(minicpm_v_df)"
   ]
  },
  {
   "cell_type": "code",
   "execution_count": null,
   "metadata": {},
   "outputs": [],
   "source": [
    "llama3_2_vision_11b_instuct_q8_df = process_data(all_images, \"llama3.2-vision:11b-instruct-q8_0\")\n",
    "llama3_2_vision_11b_instuct_q8_df.to_csv(\"llama3_2-vision_11b-instruct-q8_0_results.csv\", index=False)\n",
    "display(llama3_2_vision_11b_instuct_q8_df)"
   ]
  },
  {
   "cell_type": "code",
   "execution_count": null,
   "metadata": {},
   "outputs": [],
   "source": [
    "response = chat(\n",
    "    model=\"llama3.2-vision\",\n",
    "    format=DealDescription.model_json_schema(),  # Pass in the schema for the response\n",
    "    messages=[\n",
    "        {\n",
    "            \"role\": \"user\",\n",
    "            \"content\": (\n",
    "                \"\"\"\n",
    "                You are an advanced vision language model specializing in structured data extraction from an image of a deal. Your task is to extract structured information from a supermarket deal.\n",
    "\n",
    "                Extraction Fields:\n",
    "                    - brand: The brand name, if available (e.g. \"Coca Cola\", \"Milka\", \"Nestle\", \"Müller\", \"Iglo\").\n",
    "                    - productname: The name of the product without mentioning the brand and description.\n",
    "                    - original_price: The original price of the product, if given (often strikethrough or the UVP).\n",
    "                    - deal_price: The price of the product on sale (e.g. 1.99, 2.50, 0.99). Never negative.\n",
    "                    - weight: The amount of the product, if given (e.g. 500g, 1kg, 1 piece).\n",
    "                \"\"\"\n",
    "            ),\n",
    "            \"images\": [rnd_image],\n",
    "        },\n",
    "    ],\n",
    "    options={\"temperature\": 0}, # Set the temperature to 0 to get deterministic results\n",
    ")\n",
    "\n",
    "image_description = DealDescription.model_validate_json(response.message.content)\n",
    "print(image_description)\n",
    "loaded_image"
   ]
  },
  {
   "cell_type": "code",
   "execution_count": null,
   "metadata": {},
   "outputs": [],
   "source": [
    "response = chat(\n",
    "    model=\"minicpm-v\",\n",
    "    format=DealDescription.model_json_schema(),  # Pass in the schema for the response\n",
    "    messages=[\n",
    "        {\n",
    "            \"role\": \"user\",\n",
    "            \"content\": (\n",
    "                \"\"\"\n",
    "                You are an advanced vision language model specializing in structured data extraction from an image of a deal. Your task is to extract structured information from a supermarket deal.\n",
    "\n",
    "                Extraction Fields:\n",
    "                    - brand: The brand name, if available (e.g. \"Coca Cola\", \"Milka\", \"Nestle\", \"Müller\", \"Iglo\").\n",
    "                    - productname: The name of the product without mentioning the brand and description.\n",
    "                    - original_price: The original price of the product, if given (often strikethrough or the UVP).\n",
    "                    - deal_price: The price of the product on sale (e.g. 1.99, 2.50, 0.99). Never negative.\n",
    "                    - weight: The amount of the product, if given (e.g. 500g, 1kg, 1 piece).\n",
    "                \"\"\"\n",
    "            ),\n",
    "            \"images\": [rnd_image],\n",
    "        },\n",
    "    ],\n",
    "    options={\"temperature\": 0}, # Set the temperature to 0 to get deterministic results\n",
    ")\n",
    "\n",
    "image_description = DealDescription.model_validate_json(response.message.content)\n",
    "print(image_description)\n",
    "loaded_image"
   ]
  },
  {
   "cell_type": "code",
   "execution_count": null,
   "metadata": {},
   "outputs": [],
   "source": [
    "response = chat(\n",
    "    model=\"llama3.2-vision:11b-instruct-q8_0\",\n",
    "    format=DealDescription.model_json_schema(),  # Pass in the schema for the response\n",
    "    messages=[\n",
    "        {\n",
    "            \"role\": \"user\",\n",
    "            \"content\": (\n",
    "                \"\"\"\n",
    "                You are an advanced vision language model specializing in structured data extraction from an image of a deal. Your task is to extract structured information from a supermarket deal.\n",
    "\n",
    "                Extraction Fields:\n",
    "                    - brand: The brand name, if available (e.g. \"Coca Cola\", \"Milka\", \"Nestle\", \"Müller\", \"Iglo\").\n",
    "                    - productname: The name of the product without mentioning the brand and description.\n",
    "                    - original_price: The original price of the product, if given (often strikethrough or the UVP).\n",
    "                    - deal_price: The price of the product on sale (e.g. 1.99, 2.50, 0.99). Never negative.\n",
    "                    - weight: The amount of the product, if given (e.g. 500g, 1kg, 1 piece).\n",
    "                \"\"\"\n",
    "            ),\n",
    "            \"images\": [rnd_image],\n",
    "        },\n",
    "    ],\n",
    "    options={\"temperature\": 0}, # Set the temperature to 0 to get deterministic results\n",
    ")\n",
    "\n",
    "image_description = DealDescription.model_validate_json(response.message.content)\n",
    "print(image_description)\n",
    "loaded_image"
   ]
  }
 ],
 "metadata": {
  "kernelspec": {
   "display_name": ".venv",
   "language": "python",
   "name": "python3"
  },
  "language_info": {
   "codemirror_mode": {
    "name": "ipython",
    "version": 3
   },
   "file_extension": ".py",
   "mimetype": "text/x-python",
   "name": "python",
   "nbconvert_exporter": "python",
   "pygments_lexer": "ipython3",
   "version": "3.11.6"
  }
 },
 "nbformat": 4,
 "nbformat_minor": 2
}
