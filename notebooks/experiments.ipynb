{
 "cells": [
  {
   "cell_type": "code",
   "execution_count": 21,
   "metadata": {},
   "outputs": [],
   "source": [
    "import os\n",
    "import random\n",
    "\n",
    "from PIL import Image, ImageDraw, ImageFont"
   ]
  },
  {
   "cell_type": "code",
   "execution_count": 22,
   "metadata": {},
   "outputs": [],
   "source": [
    "data_dir = r\"F:\\OneDrive\\toShare\\Gabrilyi\\leaflet_project\\labeled\\1_Gabriel_10102024\"\n",
    "SCALE = 0.3"
   ]
  },
  {
   "cell_type": "code",
   "execution_count": 30,
   "metadata": {},
   "outputs": [
    {
     "name": "stdout",
     "output_type": "stream",
     "text": [
      "20389b7b-aldi-sud_2407534_3.jpg\n",
      "20389b7b-aldi-sud_2407534_3.txt\n"
     ]
    }
   ],
   "source": [
    "all_images = os.listdir(os.path.join(data_dir, \"images\"))\n",
    "all_labels = os.listdir(os.path.join(data_dir, \"labels\"))\n",
    "\n",
    "rnd_index = random.randint(0, len(all_images) - 1)\n",
    "rnd_img = all_images[rnd_index]\n",
    "rnd_label = all_labels[rnd_index]\n",
    "\n",
    "print(rnd_img)\n",
    "print(rnd_label)\n",
    "\n",
    "rnd_img = Image.open(os.path.join(data_dir, \"images\", rnd_img))\n",
    "image_width, image_height = rnd_img.size\n",
    "\n",
    "with open(os.path.join(data_dir, \"labels\", rnd_label), \"r\") as f:\n",
    "    lines = f.readlines()\n",
    "    lines = [line.strip().replace(\"\\n\", \"\").split(\" \") for line in lines]\n",
    "\n",
    "for line in lines:\n",
    "    class_name = line[0]\n",
    "    points = [float(point) for point in line[1:]]\n",
    "    points = [(points[i], points[i + 1]) for i in range(0, len(points), 2)]\n",
    "    points = [(int(point[0] * image_width), int(point[1] * image_height)) for point in points]\n",
    "\n",
    "    draw = ImageDraw.Draw(rnd_img)\n",
    "    draw.polygon(points, outline=\"red\", width=10)\n",
    "    font = ImageFont.load_default()\n",
    "    draw.text(points[0], class_name, font=font, fill=\"red\")\n",
    "\n",
    "rnd_img.show()"
   ]
  }
 ],
 "metadata": {
  "kernelspec": {
   "display_name": ".venv",
   "language": "python",
   "name": "python3"
  },
  "language_info": {
   "codemirror_mode": {
    "name": "ipython",
    "version": 3
   },
   "file_extension": ".py",
   "mimetype": "text/x-python",
   "name": "python",
   "nbconvert_exporter": "python",
   "pygments_lexer": "ipython3",
   "version": "3.12.0"
  }
 },
 "nbformat": 4,
 "nbformat_minor": 2
}
