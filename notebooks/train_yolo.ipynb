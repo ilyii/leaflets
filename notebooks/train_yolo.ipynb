{
 "cells": [
  {
   "cell_type": "code",
   "execution_count": 1,
   "metadata": {},
   "outputs": [],
   "source": [
    "from ultralytics import YOLO\n",
    "\n",
    "model = YOLO(\"yolo11l-seg.pt\")"
   ]
  },
  {
   "cell_type": "code",
   "execution_count": null,
   "metadata": {},
   "outputs": [],
   "source": [
    "results = model.train(data=\"data-seg.yaml\", epochs=50, device=\"0\", batch=16)"
   ]
  },
  {
   "cell_type": "code",
   "execution_count": null,
   "metadata": {},
   "outputs": [],
   "source": [
    "model.val(data=\"data-seg.yaml\", imgsz=640, device=\"0\")"
   ]
  },
  {
   "cell_type": "code",
   "execution_count": 4,
   "metadata": {},
   "outputs": [],
   "source": [
    "# 1: ...\n",
    "# 2: ...\n",
    "# 3: ...\n",
    "# 4: results_dict: {'metrics/precision(B)': np.float64(0.7861105206944853), 'metrics/recall(B)': np.float64(0.7927259873469796), 'metrics/mAP50(B)': np.float64(0.8766811817555714), 'metrics/mAP50-95(B)': np.float64(0.8232225003950192), 'metrics/precision(M)': np.float64(0.7861105206944853), 'metrics/recall(M)': np.float64(0.7927259873469796), 'metrics/mAP50(M)': np.float64(0.8766811817555714), 'metrics/mAP50-95(M)': np.float64(0.8004147842411002), 'fitness': np.float64(1.6366097925236218)}\n",
    "# 5: results_dict: {'metrics/precision(B)': np.float64(0.8851796070468027), 'metrics/recall(B)': np.float64(0.7322882085753747), 'metrics/mAP50(B)': np.float64(0.894746480491193), 'metrics/mAP50-95(B)': np.float64(0.8300558192299545), 'metrics/precision(M)': np.float64(0.8866926317440483), 'metrics/recall(M)': np.float64(0.7338033600905262), 'metrics/mAP50(M)': np.float64(0.8953505060265794), 'metrics/mAP50-95(M)': np.float64(0.7831652328696045), 'fitness': np.float64(1.6309086455413804)}"
   ]
  }
 ],
 "metadata": {
  "kernelspec": {
   "display_name": ".venv",
   "language": "python",
   "name": "python3"
  },
  "language_info": {
   "codemirror_mode": {
    "name": "ipython",
    "version": 3
   },
   "file_extension": ".py",
   "mimetype": "text/x-python",
   "name": "python",
   "nbconvert_exporter": "python",
   "pygments_lexer": "ipython3",
   "version": "3.12.0"
  }
 },
 "nbformat": 4,
 "nbformat_minor": 2
}
